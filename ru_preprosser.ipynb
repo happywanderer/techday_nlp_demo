{
 "cells": [
  {
   "cell_type": "code",
   "execution_count": 1,
   "metadata": {},
   "outputs": [],
   "source": [
    "import pandas as pd\n",
    "from nltk.corpus import stopwords\n",
    "from pymystem3 import Mystem\n",
    "from string import punctuation\n",
    "\n",
    "#Create lemmatizer and stopwords list\n",
    "mystem = Mystem() \n",
    "russian_stopwords = stopwords.words(\"russian\")\n",
    "#regex = re.compile('[%s]' % re.escape(string.punctuation))\n",
    "\n",
    "#Preprocess function\n",
    "def preprocess_text(text):\n",
    "    # insert a space between hashtags\n",
    "    text = re.sub(\"\\#\",\" \\#\", text)\n",
    "    \n",
    "    # remove urls \n",
    "    text = re.sub(\"https\\:\\/\\/.*\\s\",\"\",text)\n",
    "    \n",
    "    # remove HTML tags\n",
    "    text = re.sub(\"\\<.*\\>\",\"\",text)\n",
    "    \n",
    "    # remove punctuation\n",
    "    text = text.translate(str.maketrans('', '', punctuation))\n",
    "    \n",
    "    # lemmatize and tokenize\n",
    "    tokens = mystem.lemmatize(text.lower())\n",
    "    \n",
    "    tokens = [token for token in tokens if token not in russian_stopwords\\\n",
    "              and token != \" \"]\n",
    "    \n",
    "    text = \" \".join(tokens)\n",
    "    \n",
    "    return text.strip()\n"
   ]
  },
  {
   "cell_type": "code",
   "execution_count": 2,
   "metadata": {},
   "outputs": [],
   "source": [
    "import csv\n",
    "\n",
    "# read in CSV file; *NOTE: use python engine to avoid column count errors\n",
    "df = pd.read_csv(r\"C:\\Users\\572719\\Documents\\115 Data\\circus.csv\", skiprows=7, engine=\"python\")"
   ]
  },
  {
   "cell_type": "code",
   "execution_count": 3,
   "metadata": {},
   "outputs": [],
   "source": [
    "# drop any header rows that are not the header\n",
    "df.drop(df.index[(df[\"No\"] == \"No\") & (df[\"Source\"] == \"Source\") & (df[\"Host\"] == \"Host\")].tolist(), inplace=True)\n",
    "\n",
    "# [Optional] drop \"No\" column, which contains indices for each media source\n",
    "#df.drop(\"No\",axis=1, inplace=True)\n",
    "\n",
    "# reset index to account for those dropped rows\n",
    "df.reset_index(drop=True, inplace=True)\n"
   ]
  },
  {
   "cell_type": "code",
   "execution_count": null,
   "metadata": {},
   "outputs": [],
   "source": [
    "import re\n",
    "\n",
    "# initialize list to hold all processed text prepared for analysis\n",
    "processedtext = []\n",
    "\n",
    "# get text from content field and process (tokenize/lemmitize) for anaylsis\n",
    "# *NOTE: there are nan rows that need to be dropped, because some sources don't have content (e.g. Tumblr)\n",
    "contents = df[\"Contents\"].dropna()\n",
    "\n",
    "for text in contents:\n",
    "    processedtext.append(preprocess_text(text))\n"
   ]
  },
  {
   "cell_type": "code",
   "execution_count": null,
   "metadata": {},
   "outputs": [],
   "source": [
    "# get summary text for those entries that don't have content data \n",
    "summaries = list(df[df[\"Source\"] == \"TUMBLR\"][\"Summary\"].dropna())\n",
    "\n",
    "# process summaries and add to processedtext\n",
    "for text in summaries:\n",
    "    processedtext.append(preprocess_text(text))\n",
    "\n",
    "processedtext"
   ]
  },
  {
   "cell_type": "code",
   "execution_count": null,
   "metadata": {},
   "outputs": [],
   "source": []
  }
 ],
 "metadata": {
  "kernelspec": {
   "display_name": "Python 3",
   "language": "python",
   "name": "python3"
  },
  "language_info": {
   "codemirror_mode": {
    "name": "ipython",
    "version": 3
   },
   "file_extension": ".py",
   "mimetype": "text/x-python",
   "name": "python",
   "nbconvert_exporter": "python",
   "pygments_lexer": "ipython3",
   "version": "3.6.5"
  }
 },
 "nbformat": 4,
 "nbformat_minor": 2
}

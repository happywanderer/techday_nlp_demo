{
 "cells": [
  {
   "cell_type": "markdown",
   "metadata": {},
   "source": [
    "# Welome to Tech Day NLP Demonstration"
   ]
  },
  {
   "cell_type": "code",
   "execution_count": 1,
   "metadata": {},
   "outputs": [],
   "source": [
    "import pandas as pd\n",
    "import numpy as np\n",
    "import time\n",
    "import glob\n",
    "import os\n",
    "\n",
    "pd.options.display.max_columns = None"
   ]
  },
  {
   "cell_type": "code",
   "execution_count": 2,
   "metadata": {},
   "outputs": [],
   "source": [
    "###\n",
    "#    The first function\n",
    "#\n",
    "#    This function reads in the data from the csv file\n",
    "#    It then processes the data into separate dataframes\n",
    "#    These dataframes are contained within a dictionary\n",
    "#    The function returns the dictionary of dataframes\n",
    "#    for further processing\n",
    "###\n",
    "\n",
    "def read_data():\n",
    "    df = pd.read_csv('./file.csv')\n",
    "    \n",
    "    # Initialize an empty dictionary to become the dictionary of dataframes\n",
    "    d = {}    \n",
    "\n",
    "    # rename the columns from crap into good stuff based on actual column names from csv file\n",
    "    columns_good = list(df.iloc[6])\n",
    "    columns_bad = list(df.columns)\n",
    "    cols_dict = dict(zip(columns_bad, columns_good))\n",
    "    \n",
    "    df.rename(columns=cols_dict, inplace=True)\n",
    "\n",
    "    # Sanity check printing\n",
    "    # print(len(columns_good))\n",
    "    # print(len(columns_bad))\n",
    "    # cols_dict\n",
    "    \n",
    "    # Find all unique sources dropping garbage at top of CSV file\n",
    "    source_list = list(df.iloc[:,1].unique())[6:]    \n",
    "\n",
    "    # Sanity check\n",
    "    # print(source_list)    \n",
    "\n",
    "    # create a list of the columsn that contain date/time information (used in the for loop below)\n",
    "    dt_cols = ['Date(ET)', 'Time(ET)', 'LocalTime']\n",
    "    \n",
    "    # Create a for loop to build a dictionary of dataframes\n",
    "    for i in source_list:\n",
    "        d['{0}'.format(i)] = df[df.iloc[:,1] == i]\n",
    "        d['{0}'.format(i)].reset_index(inplace=True, drop=True)\n",
    "        \n",
    "        # Fix the datetime dtype issue.\n",
    "        # This applies the to_datetime function to the three identified rows that contain date/time data\n",
    "        # \n",
    "        # IMPORTANT\n",
    "        # Because all sources were merged into ONE dataframe, some info in the date/time columns was NOT\n",
    "        # date/time info. For this reason, we use 'errors='ignore''. This keeps the original data that was\n",
    "        # NOT date/time data intact for when we split the data out into individual dataframes below\n",
    "        for col in dt_cols:\n",
    "            d['{0}'.format(i)][col] = pd.to_datetime(d['{0}'.format(i)][col], errors='ignore')\n",
    "    # for key in d.keys():\n",
    "        # print(key)\n",
    "        # d[key].iloc[:, 4:7] = d[key].iloc[:, 4:7].apply(pd.to_datetime, errors='ignore')\n",
    "\n",
    "    \n",
    "    # Create a for loop to drop columns that are completely NaN in EACH dataframe\n",
    "    # Also drop any rows that are completely NaN in EACH dataframe\n",
    "    for j in source_list:\n",
    "    #    print(d[j].shape)    # Sanity Check\n",
    "        d[j].dropna(axis=1, how='all', inplace=True)\n",
    "    #    print(d[j].shape)    # Sanity Check\n",
    "        d[j].dropna(axis=0, how='all', inplace=True)\n",
    "    #    print(d[j].shape)    # Sanity Check\n",
    "        d[j].reset_index(inplace=True, drop=True)\n",
    "        \n",
    "    # Return the dictionary of dataframes \n",
    "    return(d)"
   ]
  },
  {
   "cell_type": "code",
   "execution_count": 3,
   "metadata": {},
   "outputs": [
    {
     "name": "stderr",
     "output_type": "stream",
     "text": [
      "C:\\Users\\601736\\AppData\\Local\\Continuum\\anaconda3\\lib\\site-packages\\IPython\\core\\interactiveshell.py:3209: DtypeWarning: Columns (25,26,27,32) have mixed types. Specify dtype option on import or set low_memory=False.\n",
      "  if (yield from self.run_code(code, result)):\n",
      "C:\\Users\\601736\\AppData\\Local\\Continuum\\anaconda3\\lib\\site-packages\\ipykernel_launcher.py:51: SettingWithCopyWarning: \n",
      "A value is trying to be set on a copy of a slice from a DataFrame.\n",
      "Try using .loc[row_indexer,col_indexer] = value instead\n",
      "\n",
      "See the caveats in the documentation: http://pandas.pydata.org/pandas-docs/stable/indexing.html#indexing-view-versus-copy\n",
      "C:\\Users\\601736\\AppData\\Local\\Continuum\\anaconda3\\lib\\site-packages\\ipykernel_launcher.py:61: SettingWithCopyWarning: \n",
      "A value is trying to be set on a copy of a slice from a DataFrame\n",
      "\n",
      "See the caveats in the documentation: http://pandas.pydata.org/pandas-docs/stable/indexing.html#indexing-view-versus-copy\n",
      "C:\\Users\\601736\\AppData\\Local\\Continuum\\anaconda3\\lib\\site-packages\\ipykernel_launcher.py:63: SettingWithCopyWarning: \n",
      "A value is trying to be set on a copy of a slice from a DataFrame\n",
      "\n",
      "See the caveats in the documentation: http://pandas.pydata.org/pandas-docs/stable/indexing.html#indexing-view-versus-copy\n"
     ]
    },
    {
     "name": "stdout",
     "output_type": "stream",
     "text": [
      "dict_keys(['NEWS', 'FORUMS', 'TUMBLR', 'TWITTER', 'INSTAGRAM'])\n",
      "11.448444128036499\n"
     ]
    }
   ],
   "source": [
    "start = time.time()\n",
    "df = read_data()\n",
    "print(df.keys())\n",
    "end = time.time()\n",
    "print(end - start)"
   ]
  },
  {
   "cell_type": "code",
   "execution_count": 4,
   "metadata": {},
   "outputs": [
    {
     "name": "stdout",
     "output_type": "stream",
     "text": [
      "No                         object\n",
      "Source                     object\n",
      "Host                       object\n",
      "Link                       object\n",
      "Date(ET)           datetime64[ns]\n",
      "Time(ET)           datetime64[ns]\n",
      "LocalTime          datetime64[ns]\n",
      "Author Name                object\n",
      "Authority                  object\n",
      "Language                   object\n",
      "Country                    object\n",
      "Province/State             object\n",
      "City                       object\n",
      "Location                   object\n",
      "Sentiment                  object\n",
      "Themes                     object\n",
      "Classifications            object\n",
      "Entities                   object\n",
      "Alexa Rank                 object\n",
      "Alexa Reach                object\n",
      "Title                      object\n",
      "Snippet                    object\n",
      "Contents                   object\n",
      "Summary                    object\n",
      "dtype: object\n",
      "No                         object\n",
      "Source                     object\n",
      "Host                       object\n",
      "Link                       object\n",
      "Date(ET)           datetime64[ns]\n",
      "Time(ET)           datetime64[ns]\n",
      "LocalTime          datetime64[ns]\n",
      "Author Name                object\n",
      "Authority                  object\n",
      "Language                   object\n",
      "Country                    object\n",
      "Province/State             object\n",
      "City                       object\n",
      "Location                   object\n",
      "Sentiment                  object\n",
      "Themes                     object\n",
      "Classifications            object\n",
      "Entities                   object\n",
      "Alexa Rank                 object\n",
      "Alexa Reach                object\n",
      "Title                      object\n",
      "Snippet                    object\n",
      "Contents                   object\n",
      "Summary                    object\n",
      "dtype: object\n",
      "No                         object\n",
      "Source                     object\n",
      "Host                       object\n",
      "Link                       object\n",
      "Date(ET)           datetime64[ns]\n",
      "Time(ET)           datetime64[ns]\n",
      "LocalTime          datetime64[ns]\n",
      "Authority                  object\n",
      "Language                   object\n",
      "Sentiment                  object\n",
      "Themes                     object\n",
      "Classifications            object\n",
      "Entities                   object\n",
      "Title                      object\n",
      "Snippet                    object\n",
      "Contents                   object\n",
      "Summary                    object\n",
      "Unique ID                  object\n",
      "dtype: object\n",
      "No                         object\n",
      "Source                     object\n",
      "Host                       object\n",
      "Link                       object\n",
      "Date(ET)           datetime64[ns]\n",
      "Time(ET)           datetime64[ns]\n",
      "LocalTime          datetime64[ns]\n",
      "Author ID                  object\n",
      "Author Name                object\n",
      "Author URL                 object\n",
      "Authority                  object\n",
      "Followers                  object\n",
      "Following                  object\n",
      "Gender                     object\n",
      "Language                   object\n",
      "Country                    object\n",
      "Province/State             object\n",
      "City                       object\n",
      "Location                   object\n",
      "Sentiment                  object\n",
      "Themes                     object\n",
      "Classifications            object\n",
      "Entities                   object\n",
      "Snippet                    object\n",
      "Contents                   object\n",
      "Summary                    object\n",
      "Bio                        object\n",
      "Unique ID                  object\n",
      "Post Source                object\n",
      "dtype: object\n",
      "No                         object\n",
      "Source                     object\n",
      "Host                       object\n",
      "Link                       object\n",
      "Date(ET)           datetime64[ns]\n",
      "Time(ET)                   object\n",
      "Category                   object\n",
      "Author Name                object\n",
      "Author URL                 object\n",
      "Authority                  object\n",
      "Followers                  object\n",
      "Following                  object\n",
      "Country                    object\n",
      "Province/State             object\n",
      "City                       object\n",
      "Location                   object\n",
      "Sentiment                  object\n",
      "Themes                     object\n",
      "Classifications            object\n",
      "dtype: object\n"
     ]
    }
   ],
   "source": [
    "for key in df.keys():\n",
    "    print(df[key].dtypes)"
   ]
  },
  {
   "cell_type": "code",
   "execution_count": 5,
   "metadata": {},
   "outputs": [
    {
     "data": {
      "text/plain": [
       "dict_keys(['NEWS', 'FORUMS', 'TUMBLR', 'TWITTER', 'INSTAGRAM'])"
      ]
     },
     "execution_count": 5,
     "metadata": {},
     "output_type": "execute_result"
    }
   ],
   "source": [
    "df.keys()"
   ]
  },
  {
   "cell_type": "code",
   "execution_count": 7,
   "metadata": {},
   "outputs": [
    {
     "data": {
      "text/html": [
       "<div>\n",
       "<style scoped>\n",
       "    .dataframe tbody tr th:only-of-type {\n",
       "        vertical-align: middle;\n",
       "    }\n",
       "\n",
       "    .dataframe tbody tr th {\n",
       "        vertical-align: top;\n",
       "    }\n",
       "\n",
       "    .dataframe thead th {\n",
       "        text-align: right;\n",
       "    }\n",
       "</style>\n",
       "<table border=\"1\" class=\"dataframe\">\n",
       "  <thead>\n",
       "    <tr style=\"text-align: right;\">\n",
       "      <th></th>\n",
       "      <th>No</th>\n",
       "      <th>Source</th>\n",
       "      <th>Host</th>\n",
       "      <th>Link</th>\n",
       "      <th>Date(ET)</th>\n",
       "      <th>Time(ET)</th>\n",
       "      <th>LocalTime</th>\n",
       "      <th>Author Name</th>\n",
       "      <th>Authority</th>\n",
       "      <th>Language</th>\n",
       "      <th>Country</th>\n",
       "      <th>Province/State</th>\n",
       "      <th>City</th>\n",
       "      <th>Location</th>\n",
       "      <th>Sentiment</th>\n",
       "      <th>Themes</th>\n",
       "      <th>Classifications</th>\n",
       "      <th>Entities</th>\n",
       "      <th>Alexa Rank</th>\n",
       "      <th>Alexa Reach</th>\n",
       "      <th>Title</th>\n",
       "      <th>Snippet</th>\n",
       "      <th>Contents</th>\n",
       "      <th>Summary</th>\n",
       "    </tr>\n",
       "  </thead>\n",
       "  <tbody>\n",
       "    <tr>\n",
       "      <th>0</th>\n",
       "      <td>1</td>\n",
       "      <td>NEWS</td>\n",
       "      <td>http://sakhalinmedia.ru/</td>\n",
       "      <td>https://sakhalinmedia.ru/news/824534/</td>\n",
       "      <td>2019-06-20</td>\n",
       "      <td>2019-06-26 23:15:17</td>\n",
       "      <td>2019-06-20 23:15:00</td>\n",
       "      <td>NaN</td>\n",
       "      <td>0</td>\n",
       "      <td>ru</td>\n",
       "      <td>ru</td>\n",
       "      <td>NaN</td>\n",
       "      <td>NaN</td>\n",
       "      <td>ru</td>\n",
       "      <td>NEUTRAL</td>\n",
       "      <td>NaN</td>\n",
       "      <td>NaN</td>\n",
       "      <td>NaN</td>\n",
       "      <td>42565</td>\n",
       "      <td>42119</td>\n",
       "      <td>Афиша выходного дня: Сабантуй в лучах \"Утра Ро...</td>\n",
       "      <td>ИА SakhalinMedia рассказывает, куда пойти и чт...</td>\n",
       "      <td>ИА SakhalinMedia рассказывает, куда пойти и чт...</td>\n",
       "      <td>ИА SakhalinMedia рассказывает, куда пойти и чт...</td>\n",
       "    </tr>\n",
       "    <tr>\n",
       "      <th>1</th>\n",
       "      <td>2</td>\n",
       "      <td>NEWS</td>\n",
       "      <td>http://mirtesen.sputnik.ru/</td>\n",
       "      <td>http://mirtesen.sputnik.ru/blog/43460930378/Af...</td>\n",
       "      <td>2019-06-20</td>\n",
       "      <td>2019-06-26 23:11:37</td>\n",
       "      <td>2019-06-20 23:11:00</td>\n",
       "      <td>NaN</td>\n",
       "      <td>0</td>\n",
       "      <td>ru</td>\n",
       "      <td>ru</td>\n",
       "      <td>NaN</td>\n",
       "      <td>NaN</td>\n",
       "      <td>ru</td>\n",
       "      <td>NEUTRAL</td>\n",
       "      <td>NaN</td>\n",
       "      <td>NaN</td>\n",
       "      <td>NaN</td>\n",
       "      <td>57760</td>\n",
       "      <td>29160</td>\n",
       "      <td>Афиша выходного дня: Сабантуй в лучах \"Утра Ро...</td>\n",
       "      <td>Спутник 21 июня, 5:40 Прекрасная погода и уйма...</td>\n",
       "      <td>Спутник 21 июня, 5:40 Прекрасная погода и уйма...</td>\n",
       "      <td>Спутник 21 июня, 5:40 Прекрасная погода и уйма...</td>\n",
       "    </tr>\n",
       "    <tr>\n",
       "      <th>2</th>\n",
       "      <td>3</td>\n",
       "      <td>NEWS</td>\n",
       "      <td>https://news.myseldon.com/ru/</td>\n",
       "      <td>https://news.myseldon.com/ru/news/index/212361...</td>\n",
       "      <td>2019-06-20</td>\n",
       "      <td>2019-06-26 20:13:27</td>\n",
       "      <td>2019-06-20 20:13:00</td>\n",
       "      <td>NaN</td>\n",
       "      <td>0</td>\n",
       "      <td>ru</td>\n",
       "      <td>ru</td>\n",
       "      <td>NaN</td>\n",
       "      <td>NaN</td>\n",
       "      <td>ru</td>\n",
       "      <td>NEUTRAL</td>\n",
       "      <td>NaN</td>\n",
       "      <td>NaN</td>\n",
       "      <td>NaN</td>\n",
       "      <td>79537</td>\n",
       "      <td>18000</td>\n",
       "      <td>Афиша выходного дня: Сабантуй в лучах \"Утра Ро...</td>\n",
       "      <td>ИА SakhalinMedia рассказывает, куда пойти и чт...</td>\n",
       "      <td>ИА SakhalinMedia рассказывает, куда пойти и чт...</td>\n",
       "      <td>ИА SakhalinMedia рассказывает, куда пойти и чт...</td>\n",
       "    </tr>\n",
       "    <tr>\n",
       "      <th>3</th>\n",
       "      <td>4</td>\n",
       "      <td>NEWS</td>\n",
       "      <td>http://www.trud.ru/</td>\n",
       "      <td>http://www.trud.ru/article/21-06-2019/1377277_...</td>\n",
       "      <td>2019-06-20</td>\n",
       "      <td>2019-06-26 18:25:43</td>\n",
       "      <td>2019-06-20 18:25:00</td>\n",
       "      <td>Анна Владимирова все статьи автора</td>\n",
       "      <td>2</td>\n",
       "      <td>ru</td>\n",
       "      <td>ru</td>\n",
       "      <td>NaN</td>\n",
       "      <td>NaN</td>\n",
       "      <td>ru</td>\n",
       "      <td>NEUTRAL</td>\n",
       "      <td>business;finance;</td>\n",
       "      <td>Org.business;</td>\n",
       "      <td>Citigroup;</td>\n",
       "      <td>61151</td>\n",
       "      <td>28800</td>\n",
       "      <td>Ольга Кабо: Бессмысленно воспринимать меня сек...</td>\n",
       "      <td>«Сама-то я человек XXI века, мне комфортно жит...</td>\n",
       "      <td>«Сама-то я человек XXI века, мне комфортно жит...</td>\n",
       "      <td>«Сама-то я человек XXI века, мне комфортно жит...</td>\n",
       "    </tr>\n",
       "    <tr>\n",
       "      <th>4</th>\n",
       "      <td>5</td>\n",
       "      <td>NEWS</td>\n",
       "      <td>https://www.bragazeta.ru/</td>\n",
       "      <td>https://www.bragazeta.ru/world/2847395/</td>\n",
       "      <td>2019-06-20</td>\n",
       "      <td>2019-06-26 16:00:28</td>\n",
       "      <td>2019-06-20 16:00:00</td>\n",
       "      <td>NaN</td>\n",
       "      <td>0</td>\n",
       "      <td>ru</td>\n",
       "      <td>ru</td>\n",
       "      <td>NaN</td>\n",
       "      <td>NaN</td>\n",
       "      <td>ru</td>\n",
       "      <td>NEUTRAL</td>\n",
       "      <td>NaN</td>\n",
       "      <td>NaN</td>\n",
       "      <td>NaN</td>\n",
       "      <td>32305</td>\n",
       "      <td>59220</td>\n",
       "      <td>От «психотерапии» - к агрессивному НЛП-убежден...</td>\n",
       "      <td>Естественно, разговор с населением неизбежно д...</td>\n",
       "      <td>Естественно, разговор с населением неизбежно д...</td>\n",
       "      <td>Естественно, разговор с населением неизбежно д...</td>\n",
       "    </tr>\n",
       "  </tbody>\n",
       "</table>\n",
       "</div>"
      ],
      "text/plain": [
       "  No Source                           Host  \\\n",
       "0  1   NEWS       http://sakhalinmedia.ru/   \n",
       "1  2   NEWS    http://mirtesen.sputnik.ru/   \n",
       "2  3   NEWS  https://news.myseldon.com/ru/   \n",
       "3  4   NEWS            http://www.trud.ru/   \n",
       "4  5   NEWS      https://www.bragazeta.ru/   \n",
       "\n",
       "                                                Link   Date(ET)  \\\n",
       "0              https://sakhalinmedia.ru/news/824534/ 2019-06-20   \n",
       "1  http://mirtesen.sputnik.ru/blog/43460930378/Af... 2019-06-20   \n",
       "2  https://news.myseldon.com/ru/news/index/212361... 2019-06-20   \n",
       "3  http://www.trud.ru/article/21-06-2019/1377277_... 2019-06-20   \n",
       "4            https://www.bragazeta.ru/world/2847395/ 2019-06-20   \n",
       "\n",
       "             Time(ET)           LocalTime                         Author Name  \\\n",
       "0 2019-06-26 23:15:17 2019-06-20 23:15:00                                 NaN   \n",
       "1 2019-06-26 23:11:37 2019-06-20 23:11:00                                 NaN   \n",
       "2 2019-06-26 20:13:27 2019-06-20 20:13:00                                 NaN   \n",
       "3 2019-06-26 18:25:43 2019-06-20 18:25:00  Анна Владимирова все статьи автора   \n",
       "4 2019-06-26 16:00:28 2019-06-20 16:00:00                                 NaN   \n",
       "\n",
       "  Authority Language Country Province/State City Location Sentiment  \\\n",
       "0         0       ru      ru            NaN  NaN       ru   NEUTRAL   \n",
       "1         0       ru      ru            NaN  NaN       ru   NEUTRAL   \n",
       "2         0       ru      ru            NaN  NaN       ru   NEUTRAL   \n",
       "3         2       ru      ru            NaN  NaN       ru   NEUTRAL   \n",
       "4         0       ru      ru            NaN  NaN       ru   NEUTRAL   \n",
       "\n",
       "              Themes Classifications    Entities Alexa Rank Alexa Reach  \\\n",
       "0                NaN             NaN         NaN      42565       42119   \n",
       "1                NaN             NaN         NaN      57760       29160   \n",
       "2                NaN             NaN         NaN      79537       18000   \n",
       "3  business;finance;   Org.business;  Citigroup;      61151       28800   \n",
       "4                NaN             NaN         NaN      32305       59220   \n",
       "\n",
       "                                               Title  \\\n",
       "0  Афиша выходного дня: Сабантуй в лучах \"Утра Ро...   \n",
       "1  Афиша выходного дня: Сабантуй в лучах \"Утра Ро...   \n",
       "2  Афиша выходного дня: Сабантуй в лучах \"Утра Ро...   \n",
       "3  Ольга Кабо: Бессмысленно воспринимать меня сек...   \n",
       "4  От «психотерапии» - к агрессивному НЛП-убежден...   \n",
       "\n",
       "                                             Snippet  \\\n",
       "0  ИА SakhalinMedia рассказывает, куда пойти и чт...   \n",
       "1  Спутник 21 июня, 5:40 Прекрасная погода и уйма...   \n",
       "2  ИА SakhalinMedia рассказывает, куда пойти и чт...   \n",
       "3  «Сама-то я человек XXI века, мне комфортно жит...   \n",
       "4  Естественно, разговор с населением неизбежно д...   \n",
       "\n",
       "                                            Contents  \\\n",
       "0  ИА SakhalinMedia рассказывает, куда пойти и чт...   \n",
       "1  Спутник 21 июня, 5:40 Прекрасная погода и уйма...   \n",
       "2  ИА SakhalinMedia рассказывает, куда пойти и чт...   \n",
       "3  «Сама-то я человек XXI века, мне комфортно жит...   \n",
       "4  Естественно, разговор с населением неизбежно д...   \n",
       "\n",
       "                                             Summary  \n",
       "0  ИА SakhalinMedia рассказывает, куда пойти и чт...  \n",
       "1  Спутник 21 июня, 5:40 Прекрасная погода и уйма...  \n",
       "2  ИА SakhalinMedia рассказывает, куда пойти и чт...  \n",
       "3  «Сама-то я человек XXI века, мне комфортно жит...  \n",
       "4  Естественно, разговор с населением неизбежно д...  "
      ]
     },
     "execution_count": 7,
     "metadata": {},
     "output_type": "execute_result"
    }
   ],
   "source": [
    "df['NEWS'].head()"
   ]
  },
  {
   "cell_type": "code",
   "execution_count": 16,
   "metadata": {},
   "outputs": [],
   "source": [
    "ColReTweet=\"Content, Tweet ID, URL, Author, Date, Time, Country, Estimated Number of Retweets, Retweeter1, Retweeter2, Retweeter3\""
   ]
  },
  {
   "cell_type": "code",
   "execution_count": 17,
   "metadata": {},
   "outputs": [],
   "source": [
    "Retweet_List=ColReTweet.split(sep=', ')"
   ]
  },
  {
   "cell_type": "code",
   "execution_count": 18,
   "metadata": {},
   "outputs": [
    {
     "data": {
      "text/plain": [
       "['Content',\n",
       " 'Tweet ID',\n",
       " 'URL',\n",
       " 'Author',\n",
       " 'Date',\n",
       " 'Time',\n",
       " 'Country',\n",
       " 'Estimated Number of Retweets',\n",
       " 'Retweeter1',\n",
       " 'Retweeter2',\n",
       " 'Retweeter3']"
      ]
     },
     "execution_count": 18,
     "metadata": {},
     "output_type": "execute_result"
    }
   ],
   "source": [
    "Retweet_List"
   ]
  },
  {
   "cell_type": "code",
   "execution_count": 11,
   "metadata": {},
   "outputs": [],
   "source": [
    "ColTwitter=\"No,Source,Host,Link,Date(ET),Time(ET),LocalTime,Category,Author ID,Author Name,Author URL,Authority,Followers,Following,Age,Gender,Language,Country,Province/State,City,Location,Sentiment,Themes,Classifications,Entities,Alexa Rank,Alexa Reach,Title,Snippet,Contents,Summary,Bio,Unique ID,Post Source\""
   ]
  },
  {
   "cell_type": "code",
   "execution_count": 53,
   "metadata": {},
   "outputs": [],
   "source": [
    "D_List=ColTwitter.split(sep=',')"
   ]
  },
  {
   "cell_type": "code",
   "execution_count": 54,
   "metadata": {},
   "outputs": [
    {
     "data": {
      "text/plain": [
       "['No',\n",
       " 'Source',\n",
       " 'Host',\n",
       " 'Link',\n",
       " 'Date(ET)',\n",
       " 'Time(ET)',\n",
       " 'LocalTime',\n",
       " 'Category',\n",
       " 'Author ID',\n",
       " 'Author Name',\n",
       " 'Author URL',\n",
       " 'Authority',\n",
       " 'Followers',\n",
       " 'Following',\n",
       " 'Age',\n",
       " 'Gender',\n",
       " 'Language',\n",
       " 'Country',\n",
       " 'Province/State',\n",
       " 'City',\n",
       " 'Location',\n",
       " 'Sentiment',\n",
       " 'Themes',\n",
       " 'Classifications',\n",
       " 'Entities',\n",
       " 'Alexa Rank',\n",
       " 'Alexa Reach',\n",
       " 'Title',\n",
       " 'Snippet',\n",
       " 'Contents',\n",
       " 'Summary',\n",
       " 'Bio',\n",
       " 'Unique ID',\n",
       " 'Post Source']"
      ]
     },
     "execution_count": 54,
     "metadata": {},
     "output_type": "execute_result"
    }
   ],
   "source": [
    "D_List"
   ]
  },
  {
   "cell_type": "code",
   "execution_count": 51,
   "metadata": {},
   "outputs": [],
   "source": [
    "Twitter_List=\"No,Source,Host,Link,Date(ET),Time(ET),LocalTime,Category,Author ID,Author Name,Author URL,Authority,Followers,Following,Age,Gender,Language,Country,Province/State,City,Location,Sentiment,Themes,Classifications,Entities,Alexa Rank,Alexa Reach,Title,Snippet,Contents,Summary,Bio,Unique ID,Post Source\".split(sep=',')"
   ]
  },
  {
   "cell_type": "code",
   "execution_count": 52,
   "metadata": {},
   "outputs": [
    {
     "data": {
      "text/plain": [
       "['No',\n",
       " 'Source',\n",
       " 'Host',\n",
       " 'Link',\n",
       " 'Date(ET)',\n",
       " 'Time(ET)',\n",
       " 'LocalTime',\n",
       " 'Category',\n",
       " 'Author ID',\n",
       " 'Author Name',\n",
       " 'Author URL',\n",
       " 'Authority',\n",
       " 'Followers',\n",
       " 'Following',\n",
       " 'Age',\n",
       " 'Gender',\n",
       " 'Language',\n",
       " 'Country',\n",
       " 'Province/State',\n",
       " 'City',\n",
       " 'Location',\n",
       " 'Sentiment',\n",
       " 'Themes',\n",
       " 'Classifications',\n",
       " 'Entities',\n",
       " 'Alexa Rank',\n",
       " 'Alexa Reach',\n",
       " 'Title',\n",
       " 'Snippet',\n",
       " 'Contents',\n",
       " 'Summary',\n",
       " 'Bio',\n",
       " 'Unique ID',\n",
       " 'Post Source']"
      ]
     },
     "execution_count": 52,
     "metadata": {},
     "output_type": "execute_result"
    }
   ],
   "source": [
    "Twitter_List"
   ]
  },
  {
   "cell_type": "code",
   "execution_count": 55,
   "metadata": {},
   "outputs": [],
   "source": [
    "Forums_List=\"No,Source,Host,Link,Date(ET),Time(ET),LocalTime,Category,Author ID,Author Name,Author URL,Authority,Followers,Following,Age,Gender,Language,Country,Province/State,City,Location,Sentiment,Themes,Classifications,Entities,Alexa Rank,Alexa Reach,Title,Snippet,Contents,Summary,Bio,Unique ID,Post Source\".split(sep=',')"
   ]
  },
  {
   "cell_type": "code",
   "execution_count": 56,
   "metadata": {},
   "outputs": [
    {
     "data": {
      "text/plain": [
       "['No',\n",
       " 'Source',\n",
       " 'Host',\n",
       " 'Link',\n",
       " 'Date(ET)',\n",
       " 'Time(ET)',\n",
       " 'LocalTime',\n",
       " 'Category',\n",
       " 'Author ID',\n",
       " 'Author Name',\n",
       " 'Author URL',\n",
       " 'Authority',\n",
       " 'Followers',\n",
       " 'Following',\n",
       " 'Age',\n",
       " 'Gender',\n",
       " 'Language',\n",
       " 'Country',\n",
       " 'Province/State',\n",
       " 'City',\n",
       " 'Location',\n",
       " 'Sentiment',\n",
       " 'Themes',\n",
       " 'Classifications',\n",
       " 'Entities',\n",
       " 'Alexa Rank',\n",
       " 'Alexa Reach',\n",
       " 'Title',\n",
       " 'Snippet',\n",
       " 'Contents',\n",
       " 'Summary',\n",
       " 'Bio',\n",
       " 'Unique ID',\n",
       " 'Post Source']"
      ]
     },
     "execution_count": 56,
     "metadata": {},
     "output_type": "execute_result"
    }
   ],
   "source": [
    "Forums_List"
   ]
  },
  {
   "cell_type": "code",
   "execution_count": 57,
   "metadata": {},
   "outputs": [],
   "source": [
    "Blogs_List=\"No,Source,Host,Link,Date(ET),Time(ET),LocalTime,Category,Author ID,Author Name,Author URL,Authority,Followers,Following,Age,Gender,Language,Country,Province/State,City,Location,Sentiment,Themes,Classifications,Entities,Alexa Rank,Alexa Reach,Title,Snippet,Contents,Summary,Bio,Unique ID,Post Source\".split(sep=',')"
   ]
  },
  {
   "cell_type": "code",
   "execution_count": 58,
   "metadata": {},
   "outputs": [
    {
     "data": {
      "text/plain": [
       "['No',\n",
       " 'Source',\n",
       " 'Host',\n",
       " 'Link',\n",
       " 'Date(ET)',\n",
       " 'Time(ET)',\n",
       " 'LocalTime',\n",
       " 'Category',\n",
       " 'Author ID',\n",
       " 'Author Name',\n",
       " 'Author URL',\n",
       " 'Authority',\n",
       " 'Followers',\n",
       " 'Following',\n",
       " 'Age',\n",
       " 'Gender',\n",
       " 'Language',\n",
       " 'Country',\n",
       " 'Province/State',\n",
       " 'City',\n",
       " 'Location',\n",
       " 'Sentiment',\n",
       " 'Themes',\n",
       " 'Classifications',\n",
       " 'Entities',\n",
       " 'Alexa Rank',\n",
       " 'Alexa Reach',\n",
       " 'Title',\n",
       " 'Snippet',\n",
       " 'Contents',\n",
       " 'Summary',\n",
       " 'Bio',\n",
       " 'Unique ID',\n",
       " 'Post Source']"
      ]
     },
     "execution_count": 58,
     "metadata": {},
     "output_type": "execute_result"
    }
   ],
   "source": [
    "Blogs_List"
   ]
  },
  {
   "cell_type": "code",
   "execution_count": 49,
   "metadata": {},
   "outputs": [],
   "source": [
    "News_List=\"No,Source,Host,Link,Date(ET),Time(ET),LocalTime,Category,Author ID,Author Name,Author URL,Authority,Followers,Following,Age,Gender,Language,Country,Province/State,City,Location,Sentiment,Themes,Classifications,Entities,Alexa Rank,Alexa Reach,Title,Snippet,Contents,Summary,Bio,Unique ID,Post Source\".split(sep=',')"
   ]
  },
  {
   "cell_type": "code",
   "execution_count": null,
   "metadata": {},
   "outputs": [],
   "source": []
  },
  {
   "cell_type": "code",
   "execution_count": 50,
   "metadata": {},
   "outputs": [
    {
     "data": {
      "text/plain": [
       "['No',\n",
       " 'Source',\n",
       " 'Host',\n",
       " 'Link',\n",
       " 'Date(ET)',\n",
       " 'Time(ET)',\n",
       " 'LocalTime',\n",
       " 'Category',\n",
       " 'Author ID',\n",
       " 'Author Name',\n",
       " 'Author URL',\n",
       " 'Authority',\n",
       " 'Followers',\n",
       " 'Following',\n",
       " 'Age',\n",
       " 'Gender',\n",
       " 'Language',\n",
       " 'Country',\n",
       " 'Province/State',\n",
       " 'City',\n",
       " 'Location',\n",
       " 'Sentiment',\n",
       " 'Themes',\n",
       " 'Classifications',\n",
       " 'Entities',\n",
       " 'Alexa Rank',\n",
       " 'Alexa Reach',\n",
       " 'Title',\n",
       " 'Snippet',\n",
       " 'Contents',\n",
       " 'Summary',\n",
       " 'Bio',\n",
       " 'Unique ID',\n",
       " 'Post Source']"
      ]
     },
     "execution_count": 50,
     "metadata": {},
     "output_type": "execute_result"
    }
   ],
   "source": [
    "News_List"
   ]
  },
  {
   "cell_type": "code",
   "execution_count": 59,
   "metadata": {},
   "outputs": [],
   "source": [
    "Tumblr_List=\"No,Source,Host,Link,Date(ET),Time(ET),LocalTime,Category,Author ID,Author Name,Author URL,Authority,Followers,Following,Age,Gender,Language,Country,Province/State,City,Location,Sentiment,Themes,Classifications,Entities,Alexa Rank,Alexa Reach,Title,Snippet,Contents,Summary,Bio,Unique ID,Post Source\".split(sep=',')"
   ]
  },
  {
   "cell_type": "code",
   "execution_count": 60,
   "metadata": {},
   "outputs": [
    {
     "data": {
      "text/plain": [
       "['No',\n",
       " 'Source',\n",
       " 'Host',\n",
       " 'Link',\n",
       " 'Date(ET)',\n",
       " 'Time(ET)',\n",
       " 'LocalTime',\n",
       " 'Category',\n",
       " 'Author ID',\n",
       " 'Author Name',\n",
       " 'Author URL',\n",
       " 'Authority',\n",
       " 'Followers',\n",
       " 'Following',\n",
       " 'Age',\n",
       " 'Gender',\n",
       " 'Language',\n",
       " 'Country',\n",
       " 'Province/State',\n",
       " 'City',\n",
       " 'Location',\n",
       " 'Sentiment',\n",
       " 'Themes',\n",
       " 'Classifications',\n",
       " 'Entities',\n",
       " 'Alexa Rank',\n",
       " 'Alexa Reach',\n",
       " 'Title',\n",
       " 'Snippet',\n",
       " 'Contents',\n",
       " 'Summary',\n",
       " 'Bio',\n",
       " 'Unique ID',\n",
       " 'Post Source']"
      ]
     },
     "execution_count": 60,
     "metadata": {},
     "output_type": "execute_result"
    }
   ],
   "source": [
    "Tumblr_List"
   ]
  },
  {
   "cell_type": "code",
   "execution_count": 61,
   "metadata": {},
   "outputs": [],
   "source": [
    "YouTube_List=\"No,Source,Link,Date,Time,Author,Author Profile,Category,Title,Description,Views,Comments,Likes,Dislikes,Favourites,Duration (seconds),Unique ID\".split(sep=',')"
   ]
  },
  {
   "cell_type": "code",
   "execution_count": 62,
   "metadata": {},
   "outputs": [
    {
     "data": {
      "text/plain": [
       "['No',\n",
       " 'Source',\n",
       " 'Link',\n",
       " 'Date',\n",
       " 'Time',\n",
       " 'Author',\n",
       " 'Author Profile',\n",
       " 'Category',\n",
       " 'Title',\n",
       " 'Description',\n",
       " 'Views',\n",
       " 'Comments',\n",
       " 'Likes',\n",
       " 'Dislikes',\n",
       " 'Favourites',\n",
       " 'Duration (seconds)',\n",
       " 'Unique ID']"
      ]
     },
     "execution_count": 62,
     "metadata": {},
     "output_type": "execute_result"
    }
   ],
   "source": [
    "YouTube_List"
   ]
  },
  {
   "cell_type": "code",
   "execution_count": 63,
   "metadata": {},
   "outputs": [],
   "source": [
    "Instagram_List=\"No,Source,Link,Date,Time,Author ID,Author Name,Language,Location,Contents,HashTags,Likes,Comments,Attachments,Brand Images,Object Images,Food Images,Scene Images,Selfie,Sentiment,Themes,Classifications,Entities,Unique ID\".split(sep=',')"
   ]
  },
  {
   "cell_type": "code",
   "execution_count": 64,
   "metadata": {},
   "outputs": [
    {
     "data": {
      "text/plain": [
       "['No',\n",
       " 'Source',\n",
       " 'Link',\n",
       " 'Date',\n",
       " 'Time',\n",
       " 'Author ID',\n",
       " 'Author Name',\n",
       " 'Language',\n",
       " 'Location',\n",
       " 'Contents',\n",
       " 'HashTags',\n",
       " 'Likes',\n",
       " 'Comments',\n",
       " 'Attachments',\n",
       " 'Brand Images',\n",
       " 'Object Images',\n",
       " 'Food Images',\n",
       " 'Scene Images',\n",
       " 'Selfie',\n",
       " 'Sentiment',\n",
       " 'Themes',\n",
       " 'Classifications',\n",
       " 'Entities',\n",
       " 'Unique ID']"
      ]
     },
     "execution_count": 64,
     "metadata": {},
     "output_type": "execute_result"
    }
   ],
   "source": [
    "Instagram_List"
   ]
  },
  {
   "cell_type": "code",
   "execution_count": 65,
   "metadata": {},
   "outputs": [
    {
     "data": {
      "text/plain": [
       "dict_keys(['NEWS', 'FORUMS', 'TUMBLR', 'TWITTER', 'INSTAGRAM'])"
      ]
     },
     "execution_count": 65,
     "metadata": {},
     "output_type": "execute_result"
    }
   ],
   "source": [
    "df.keys()"
   ]
  },
  {
   "cell_type": "code",
   "execution_count": 66,
   "metadata": {},
   "outputs": [
    {
     "data": {
      "text/plain": [
       "Index(['No', 'Source', 'Host', 'Link', 'Date(ET)', 'Time(ET)', 'LocalTime',\n",
       "       'Author Name', 'Authority', 'Language', 'Country', 'Province/State',\n",
       "       'City', 'Location', 'Sentiment', 'Themes', 'Classifications',\n",
       "       'Entities', 'Alexa Rank', 'Alexa Reach', 'Title', 'Snippet', 'Contents',\n",
       "       'Summary'],\n",
       "      dtype='object')"
      ]
     },
     "execution_count": 66,
     "metadata": {},
     "output_type": "execute_result"
    }
   ],
   "source": [
    "df['NEWS'].columns"
   ]
  },
  {
   "cell_type": "code",
   "execution_count": 67,
   "metadata": {},
   "outputs": [
    {
     "name": "stdout",
     "output_type": "stream",
     "text": [
      "24\n",
      "34\n"
     ]
    }
   ],
   "source": [
    "print(len(df['NEWS'].columns))\n",
    "print(len(News_List))"
   ]
  },
  {
   "cell_type": "code",
   "execution_count": null,
   "metadata": {},
   "outputs": [],
   "source": []
  }
 ],
 "metadata": {
  "kernelspec": {
   "display_name": "Python 3",
   "language": "python",
   "name": "python3"
  },
  "language_info": {
   "codemirror_mode": {
    "name": "ipython",
    "version": 3
   },
   "file_extension": ".py",
   "mimetype": "text/x-python",
   "name": "python",
   "nbconvert_exporter": "python",
   "pygments_lexer": "ipython3",
   "version": "3.7.1"
  }
 },
 "nbformat": 4,
 "nbformat_minor": 2
}

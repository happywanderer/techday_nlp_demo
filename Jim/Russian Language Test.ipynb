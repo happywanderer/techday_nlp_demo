{
 "cells": [
  {
   "cell_type": "markdown",
   "metadata": {},
   "source": [
    "# Russian Language Processing"
   ]
  },
  {
   "cell_type": "code",
   "execution_count": null,
   "metadata": {},
   "outputs": [],
   "source": [
    "#pip install nltk"
   ]
  },
  {
   "cell_type": "code",
   "execution_count": null,
   "metadata": {},
   "outputs": [],
   "source": [
    "#pip install wordcloud"
   ]
  },
  {
   "cell_type": "code",
   "execution_count": 1,
   "metadata": {},
   "outputs": [],
   "source": [
    "# Imports for Russian language processing.\n",
    "\n",
    "import csv\n",
    "import pandas as pd\n",
    "# Allows all dataframe columns to be displayed\n",
    "pd.set_option('display.max_columns', 500)\n",
    "\n",
    "from nltk.corpus import stopwords\n",
    "from nltk.tokenize import word_tokenize, sent_tokenize\n",
    "from nltk.stem import SnowballStemmer\n",
    "# >>> print(\" \".join(SnowballStemmer.languages)) # See which languages are supported\n",
    "# arabic danish dutch english finnish french german hungarian\n",
    "# italian norwegian porter portuguese romanian russian\n",
    "# spanish swedish\n",
    "\n",
    "import nltk\n",
    "\n",
    "nltk.download\n",
    "\n",
    "from nltk.corpus import stopwords\n",
    "from string import punctuation\n",
    "import matplotlib.pyplot as plt\n",
    "import numpy as np\n",
    "from os import path\n",
    "from PIL import Image\n",
    "from wordcloud import WordCloud, STOPWORDS, ImageColorGenerator\n",
    "import matplotlib.pyplot as plt\n",
    "%matplotlib inline\n",
    "import re\n",
    "import panel as pn"
   ]
  },
  {
   "cell_type": "code",
   "execution_count": null,
   "metadata": {},
   "outputs": [],
   "source": []
  },
  {
   "cell_type": "markdown",
   "metadata": {},
   "source": [
    "# nltk.tokenize.punkt"
   ]
  },
  {
   "cell_type": "code",
   "execution_count": null,
   "metadata": {},
   "outputs": [],
   "source": [
    "# nltk.tokenize.punkt module\n",
    "# Punkt Sentence Tokenizer\n",
    "\n",
    "# This tokenizer divides a text into a list of sentences by using an unsupervised algorithm to build a model for abbreviation \n",
    "# words, collocations, and words that start sentences. It must be trained on a large collection of plaintext in the target \n",
    "# language before it can be used.\n",
    "\n",
    "# The NLTK data package includes a pre-trained Punkt tokenizer for English."
   ]
  },
  {
   "cell_type": "code",
   "execution_count": null,
   "metadata": {},
   "outputs": [],
   "source": [
    "#import nltk\n",
    "#nltk.download('punkt')\n",
    "#import nltk.data\n"
   ]
  },
  {
   "cell_type": "code",
   "execution_count": null,
   "metadata": {},
   "outputs": [],
   "source": [
    "# Tokenizes the Russian text stored in the \"text\" variable and then prints the origianl text as well as the tokenized results.\n",
    "\n",
    "#tokenizer = nltk.data.load('tokenizers/punkt/russian.pickle')\n",
    "#text = 'Когда было много-много событий за последние два месяца, вот, буквально, каждый день по два - три мероприятия - конкурсы по разным дисциплинам, концерты - то инструменты, то хореография, экзамены в художественной школе, в новую школу по математике, дни рождения с родственниками и столами, участие в спектаклях... А мама что? Мама родительский комитет и всё это организовывыла, включая выпускной. В общем, итог прекрасный, два красных диплома ДШИ, три отделения закончили и новая школа на горизонте, но... как восстановиться? Мне сейчас даже дышать неимоверно трудно(( Есть какая-то быстрая помощь? Питание, физнагрузки или покой, что-то ещё? Пока только Ламбруско могу пить) Может фильм посмотреть? Ёлки, и это я ещё опытная, с многолетним стажем в РК))) И, надо же, так навернулась...))))))) Вот прям чувствую, что край - край(('\n",
    "#text = re.sub('[?.,();:]', ' ', text)\n",
    "#print(nltk.word_tokenize(text))"
   ]
  },
  {
   "cell_type": "code",
   "execution_count": null,
   "metadata": {},
   "outputs": [],
   "source": []
  },
  {
   "cell_type": "code",
   "execution_count": null,
   "metadata": {},
   "outputs": [],
   "source": [
    "text1 = \"???By now you will have a sense of the capabilities of the Python programming language for processing natural language. However, if you're new to Python or to programming, you may still be wrestling with Python and not feel like you are in full control yet. In this chapter we'll address the following questions, How can you write well-structured, readable programs that you and others will be able to re-use easily?  How do the fundamental building blocks work, such as loops, functions and assignment?  What are some of the pitfalls with Python programming and how can you avoid them?  Along the way, you will consolidate your knowledge of fundamental programming constructs, learn more about using features of the Python language in a natural and concise way, and learn some useful techniques in visualizing natural language data. As before, this chapter contains many examples and exercises (and as before, some exercises introduce new material). Readers new to programming should work through them carefully and consult other introductions to programming if necessary; experienced programmers can quickly skim this chapter.  In the other chapters of this book, we have organized the programming concepts as dictated by the needs of NLP. Here we revert to a more conventional approach where the material is more closely tied to the structure of the programming language. There's not room for a complete presentation of the language, so we'll just focus on the language constructs and idioms that are most important for NLP.\"\n",
    "text1 = re.sub('[?.,();:]', ' ', text1)\n",
    "# text1 = re.sub('\\s+', ' ', text1)\n",
    "# print(text1)\n",
    "print(nltk.word_tokenize(text1))"
   ]
  },
  {
   "cell_type": "code",
   "execution_count": null,
   "metadata": {},
   "outputs": [],
   "source": [
    "# tokenizes the desired text and then converts the list or string to .Text.  This is required to use .concordance\n",
    "\n",
    "tokens = nltk.word_tokenize(tweet)\n",
    "tweet_words2 = nltk.Text(tokens)"
   ]
  },
  {
   "cell_type": "code",
   "execution_count": null,
   "metadata": {},
   "outputs": [],
   "source": [
    "# Allows a user to search for individual words within the text and returns every instance of the word along with the \n",
    "# phrase its found in.\n",
    "\n",
    "search_term = input('What term would you like to search for? ')\n",
    "\n",
    "tokens = nltk.word_tokenize(text)\n",
    "tokenized_text = nltk.Text(tokens)\n",
    "tokenized_text.concordance(search_term)\n",
    "#tokenized_text.similar('много')\n"
   ]
  },
  {
   "cell_type": "code",
   "execution_count": null,
   "metadata": {},
   "outputs": [],
   "source": [
    "# Creates a variable that stores russian stopwords.\n",
    "\n",
    "ru_stopwords = stopwords.words('russian')"
   ]
  },
  {
   "cell_type": "code",
   "execution_count": null,
   "metadata": {},
   "outputs": [],
   "source": [
    "ru_stopwords"
   ]
  },
  {
   "cell_type": "code",
   "execution_count": null,
   "metadata": {},
   "outputs": [],
   "source": [
    "rustopwords = ' '.join(ru_stopwords[:])"
   ]
  },
  {
   "cell_type": "code",
   "execution_count": null,
   "metadata": {},
   "outputs": [],
   "source": [
    "rustopwords"
   ]
  },
  {
   "cell_type": "code",
   "execution_count": null,
   "metadata": {},
   "outputs": [],
   "source": [
    "# Returns the root word of a word.\n",
    "\n",
    "stemmer = SnowballStemmer(\"german\") # Choose a language\n",
    "stemmer.stem(\"Beir\") # Stem a word"
   ]
  },
  {
   "cell_type": "code",
   "execution_count": null,
   "metadata": {},
   "outputs": [],
   "source": [
    "f=open('russian_sample.txt','rU')\n",
    "raw=f.read()\n",
    "tokens = nltk.word_tokenize(raw)\n",
    "#tokens = nltk.word_tokenize(raw), lang='rus'\n",
    "text_ru = nltk.Text(tokens)"
   ]
  },
  {
   "cell_type": "code",
   "execution_count": null,
   "metadata": {},
   "outputs": [],
   "source": []
  },
  {
   "cell_type": "markdown",
   "metadata": {},
   "source": [
    "# Working with Pandas Dataframes"
   ]
  },
  {
   "cell_type": "code",
   "execution_count": 14,
   "metadata": {},
   "outputs": [],
   "source": [
    "# read in dfs\n",
    "#start = time.time()\n",
    "#forumsdf = pd.read_csv(r'C:\\Users\\595872\\Desktop\\Data_Science\\Examples\\techday_nlp_demo\\data\\clean_dfs\\forums.csv').fillna('None')\n",
    "#newsdf = pd.read_csv(r'C:\\Users\\595872\\Desktop\\Data_Science\\Examples\\techday_nlp_demo\\data\\clean_dfs\\news.csv').fillna('None')\n",
    "#instagramdf = pd.read_csv(r'C:\\Users\\595872\\Desktop\\Data_Science\\Examples\\techday_nlp_demo\\data\\clean_dfs\\instagram.csv').fillna('None')\n",
    "#tumblrdf = pd.read_csv(r'C:\\Users\\595872\\Desktop\\Data_Science\\Examples\\techday_nlp_demo\\data\\clean_dfs\\tumblr.csv').fillna('None')\n",
    "#twitterdf = pd.read_csv(r'C:\\Users\\595872\\Desktop\\Data_Science\\Examples\\techday_nlp_demo\\data\\clean_dfs\\twitter.csv').fillna('None')\n",
    "#end = time.time()\n",
    "#print(end-start)\n",
    "\n",
    "#start = time.time()\n",
    "forumsdf = pd.read_csv(r'C:\\Users\\595872\\Desktop\\Data_Science\\Examples\\techday_nlp_demo\\data\\clean_dfs\\forums.csv')\n",
    "newsdf = pd.read_csv(r'C:\\Users\\595872\\Desktop\\Data_Science\\Examples\\techday_nlp_demo\\data\\clean_dfs\\news.csv')\n",
    "instagramdf = pd.read_csv(r'C:\\Users\\595872\\Desktop\\Data_Science\\Examples\\techday_nlp_demo\\data\\clean_dfs\\instagram.csv')\n",
    "tumblrdf = pd.read_csv(r'C:\\Users\\595872\\Desktop\\Data_Science\\Examples\\techday_nlp_demo\\data\\clean_dfs\\tumblr.csv')\n",
    "twitterdf = pd.read_csv(r'C:\\Users\\595872\\Desktop\\Data_Science\\Examples\\techday_nlp_demo\\data\\clean_dfs\\twitter.csv')\n",
    "#end = time.time()\n",
    "#print(end-start)"
   ]
  },
  {
   "cell_type": "raw",
   "metadata": {},
   "source": [
    "tumblrdf[tumblrdf.Contents == \"\"]"
   ]
  },
  {
   "cell_type": "code",
   "execution_count": null,
   "metadata": {},
   "outputs": [],
   "source": [
    "tumblrdf.iloc[3,27]"
   ]
  },
  {
   "cell_type": "code",
   "execution_count": null,
   "metadata": {},
   "outputs": [],
   "source": [
    "tumblrdf['Contents'].replace('', np.NaN, inplace=True)\n",
    "forumsdf['Contents'].replace('', np.NaN, inplace=True)\n",
    "instagramdf['Contents'].replace('', np.NaN, inplace=True)\n",
    "twitterdf['Contents'].replace('', np.NaN, inplace=True)\n",
    "newsdf['Contents'].replace('', np.NaN, inplace=True)"
   ]
  },
  {
   "cell_type": "code",
   "execution_count": null,
   "metadata": {},
   "outputs": [],
   "source": [
    "forumsdf.Contents[1581]"
   ]
  },
  {
   "cell_type": "raw",
   "metadata": {},
   "source": [
    "# Title, Snippet, Contents, Summary,\n",
    "print(forumsdf.head(0))\n",
    "print(' ')\n",
    "\n",
    "# Title, Snippet, Contents, Summary,\n",
    "print(newsdf.head(0))\n",
    "print(' ')\n",
    "\n",
    "\n",
    "print(instagramdf.head(0))\n",
    "print(' ')\n",
    "\n",
    "# Title, Snippet, Contents, Summary,\n",
    "print(tumblrdf.head(0))\n",
    "print(' ')\n",
    "\n",
    "# Title, Snippet, Contents, Summary,\n",
    "print(twitterdf.head(0))"
   ]
  },
  {
   "cell_type": "code",
   "execution_count": null,
   "metadata": {},
   "outputs": [],
   "source": [
    "def remove_NaN(df):\n",
    "    \n",
    "    df = df.fillna('None')\n",
    "    \n",
    "    return df\n",
    "\n"
   ]
  },
  {
   "cell_type": "code",
   "execution_count": null,
   "metadata": {},
   "outputs": [],
   "source": [
    "forumsdf[forumsdf['Summary'].isna()]"
   ]
  },
  {
   "cell_type": "code",
   "execution_count": null,
   "metadata": {},
   "outputs": [],
   "source": [
    "check_NaN(forumsdf)\n",
    "#twitterdf_dropna = replace_NaN(twitterdf)"
   ]
  },
  {
   "cell_type": "code",
   "execution_count": null,
   "metadata": {},
   "outputs": [],
   "source": [
    "forumsdf_withna\n",
    "#twitterdf_dropna"
   ]
  },
  {
   "cell_type": "code",
   "execution_count": null,
   "metadata": {},
   "outputs": [],
   "source": [
    "twitterdf.index\n"
   ]
  },
  {
   "cell_type": "code",
   "execution_count": null,
   "metadata": {},
   "outputs": [],
   "source": [
    "#twitterdf.info()\n",
    "len(twitterdf)"
   ]
  },
  {
   "cell_type": "code",
   "execution_count": null,
   "metadata": {},
   "outputs": [],
   "source": []
  },
  {
   "cell_type": "code",
   "execution_count": null,
   "metadata": {},
   "outputs": [],
   "source": []
  },
  {
   "cell_type": "code",
   "execution_count": null,
   "metadata": {},
   "outputs": [],
   "source": [
    "#twitterdf[twitterdf['Contents'].isnull()]\n",
    "#df[df['A'].isnull()].index.tolist()\n",
    "twitterdf[twitterdf['Contents'].isna()]"
   ]
  },
  {
   "cell_type": "code",
   "execution_count": null,
   "metadata": {},
   "outputs": [],
   "source": [
    "#twitterdf.head()"
   ]
  },
  {
   "cell_type": "code",
   "execution_count": null,
   "metadata": {},
   "outputs": [],
   "source": [
    "twitter_contents = twitterdf.Contents"
   ]
  },
  {
   "cell_type": "code",
   "execution_count": null,
   "metadata": {},
   "outputs": [],
   "source": [
    "twitter_contents[4]"
   ]
  },
  {
   "cell_type": "code",
   "execution_count": null,
   "metadata": {},
   "outputs": [],
   "source": [
    "twitterdf.shape"
   ]
  },
  {
   "cell_type": "code",
   "execution_count": null,
   "metadata": {},
   "outputs": [],
   "source": [
    "tokens_text"
   ]
  },
  {
   "cell_type": "code",
   "execution_count": null,
   "metadata": {},
   "outputs": [],
   "source": [
    "#for word in tokenized_text:\n",
    "    #if word not in ru_stopwords:\n",
    "        #print(word)"
   ]
  },
  {
   "cell_type": "code",
   "execution_count": null,
   "metadata": {},
   "outputs": [],
   "source": [
    "rus_sample = '@zabanen_snova Ну. Трещит у неё, но она же в принципе тупая. У неё в глазах тупизна, ну пускай се кукарекает чо. Хотя эти прямые линии на самом деле в цирк с конями превратились. С другой стороны можно просто продолжать выполнять хорошо своё дело.'"
   ]
  },
  {
   "cell_type": "code",
   "execution_count": null,
   "metadata": {},
   "outputs": [],
   "source": [
    "type(rus_sample)"
   ]
  },
  {
   "cell_type": "code",
   "execution_count": null,
   "metadata": {},
   "outputs": [],
   "source": [
    "text"
   ]
  },
  {
   "cell_type": "markdown",
   "metadata": {},
   "source": [
    "# Working code"
   ]
  },
  {
   "cell_type": "code",
   "execution_count": null,
   "metadata": {},
   "outputs": [],
   "source": [
    "#text3 = cleanup(twitter_contents[4])\n",
    "import time\n",
    "start = time.time()\n",
    "\n",
    "#cleantext, tokens = twitterdf.Contents.apply(cleanup)\n",
    "cleantext = twitterdf.Contents.apply(cleanup)\n",
    "#print(output_list)\n",
    "twitterdf['Cleaned_Text'] = cleantext\n",
    "#twitterdf['Tokenized_Text'] = tokens\n",
    "end = time.time()\n",
    "print(end-start)\n",
    "#print(text3, '\\n\\n\\n', twitter_contents[4])"
   ]
  },
  {
   "cell_type": "code",
   "execution_count": null,
   "metadata": {},
   "outputs": [],
   "source": [
    "twitterdf.head()"
   ]
  },
  {
   "cell_type": "code",
   "execution_count": null,
   "metadata": {},
   "outputs": [],
   "source": [
    "start = time.time()\n",
    "cleantext = forumsdf.Contents.apply(cleanup)\n",
    "forumsdf['Cleaned_Text'] = cleantext\n",
    "end = time.time()\n",
    "print(end-start)"
   ]
  },
  {
   "cell_type": "code",
   "execution_count": null,
   "metadata": {},
   "outputs": [],
   "source": [
    "forumsdf.head()"
   ]
  },
  {
   "cell_type": "code",
   "execution_count": null,
   "metadata": {},
   "outputs": [],
   "source": [
    "#start = time.time()\n",
    "cleantext = newsdf.Contents.apply(cleanup)\n",
    "newsdf['Cleaned_Text'] = cleantext\n",
    "#end = time.time()\n",
    "#print(end-start)"
   ]
  },
  {
   "cell_type": "code",
   "execution_count": null,
   "metadata": {},
   "outputs": [],
   "source": [
    "newsdf.head()"
   ]
  },
  {
   "cell_type": "code",
   "execution_count": null,
   "metadata": {},
   "outputs": [],
   "source": [
    "start = time.time()\n",
    "cleantext = tumblrdf.Contents.apply(cleanup)\n",
    "tumblrdf['Cleaned_Text'] = cleantext\n",
    "end = time.time()\n",
    "print(end-start)"
   ]
  },
  {
   "cell_type": "code",
   "execution_count": null,
   "metadata": {},
   "outputs": [],
   "source": [
    "tumblr_test = pd.DataFrame(tumblrdf['Contents'].replace(' ', 'np.NaN'))\n",
    "#tumblrdf[tumblrdf['Contents'].str.contains(' ')]\n",
    "#tumblr_test = tumblrdf[tumblrdf['Contents'].isna()]"
   ]
  },
  {
   "cell_type": "code",
   "execution_count": null,
   "metadata": {},
   "outputs": [],
   "source": [
    "tumblr_test.head()"
   ]
  },
  {
   "cell_type": "code",
   "execution_count": null,
   "metadata": {},
   "outputs": [],
   "source": [
    "text = re.sub(rustopwords, '', rus_sample)\n",
    "tokens = [token for token in rus_sample.split() if token not in rustopwords\\\n",
    "            and token != \" \"]\n",
    "    \n",
    "text = \" \".join(tokens)"
   ]
  },
  {
   "cell_type": "code",
   "execution_count": null,
   "metadata": {},
   "outputs": [],
   "source": [
    "# Iterates through tokenized text and removes the stopwords.\n",
    "\n",
    "tokenized_text = nltk.word_tokenize(text)\n",
    "\n",
    "for word in tokenized_text:\n",
    "    if word not in ru_stopwords:\n",
    "        print(word)"
   ]
  },
  {
   "cell_type": "code",
   "execution_count": null,
   "metadata": {},
   "outputs": [],
   "source": [
    "#twitter_contents\n",
    "tokens = []\n",
    "\n",
    "#for word in tokens:\n",
    "    #if word not in ru_stopwords:\n",
    "     #   print(word)\n",
    "        \n",
    "#print(type(tokens))\n",
    "\n",
    "for x in twitter_contents[0:10]:\n",
    "    #print(x)\n",
    "    tokens.append(nltk.word_tokenize(x))\n",
    "#print(tokens[0])\n",
    "\n",
    "#tokens = nltk.word_tokenize(twitter_contents)\n",
    "#tokens_text = nltk.Text(tokens)\n",
    "tokens_text.concordance('Всемирный')"
   ]
  },
  {
   "cell_type": "code",
   "execution_count": null,
   "metadata": {},
   "outputs": [],
   "source": [
    "twitterdf[twitterdf.Contents.str.contains('Всемирный')]"
   ]
  },
  {
   "cell_type": "code",
   "execution_count": null,
   "metadata": {},
   "outputs": [],
   "source": [
    "twitterdf[twitterdf['Contents'].str.contains('http')]\n",
    "#str.contains('og', regex=False)"
   ]
  },
  {
   "cell_type": "code",
   "execution_count": null,
   "metadata": {},
   "outputs": [],
   "source": [
    "twitterdf.Contents[0]"
   ]
  },
  {
   "cell_type": "markdown",
   "metadata": {},
   "source": [
    "# Functions"
   ]
  },
  {
   "cell_type": "code",
   "execution_count": null,
   "metadata": {},
   "outputs": [],
   "source": [
    "#Preprocess function\n",
    "\n",
    "def cleanup(text):\n",
    "    \n",
    "    rustopwords = ' '.join(ru_stopwords[:])\n",
    "    #cstart = time.time()\n",
    "    # insert a space between hashtags\n",
    "    text = re.sub(\"\\#\",\" \", text)\n",
    "    \n",
    "    # remove urls \n",
    "    text = re.sub(\"(http|https)\\:\\/\\/.*\\s?\",\"\",text)\n",
    "    \n",
    "    # remove HTML tags\n",
    "    text = re.sub(\"\\<.*\\>\",\"\",text)\n",
    "    \n",
    "    # remove punctuation\n",
    "    text = text.translate(str.maketrans('', '', punctuation))\n",
    "    #cend = time.time()\n",
    "    #print(text)\n",
    "    #print(\"cleanup time:\",cend - cstart)\n",
    "   \n",
    "    #text = re.sub(rustopwords, '', text)\n",
    "    \n",
    "    \n",
    "    \n",
    "    tokens = [token for token in text.lower().split() if token not in rustopwords\\\n",
    "            and token != \" \"]\n",
    "    \n",
    "    text = \" \".join(tokens)\n",
    "    \n",
    "# Add a new column as a function of existing columns.\n",
    "\n",
    "    #drinks['servings'] = drinks.beer + drinks.spirit + drinks.wine\n",
    "\n",
    "    #drinks['mL'] = drinks.liters * 1000\n",
    "    \n",
    "    #return text.strip()\n",
    "    return text"
   ]
  },
  {
   "cell_type": "code",
   "execution_count": null,
   "metadata": {
    "scrolled": false
   },
   "outputs": [],
   "source": [
    "cleantext, tokens = twitterdf.Contents.apply(cleanup)"
   ]
  },
  {
   "cell_type": "code",
   "execution_count": null,
   "metadata": {},
   "outputs": [],
   "source": [
    "twitterdf.head(0)"
   ]
  },
  {
   "cell_type": "code",
   "execution_count": 27,
   "metadata": {},
   "outputs": [],
   "source": [
    "# Function returns the number of NaNs in the Title, Snippet, Contents and Summary columns of the forumsdf, newsdf, tumblrdf, twitterdf.\n",
    "# The function requires four dataframes to work.\n",
    "\n",
    "def NaN_count(data1, data2, data3, data4):\n",
    "#def NaN_count(data1):\n",
    "\n",
    "    name1 =[x for x in globals() if globals()[x] is data1][0]\n",
    "    name2 =[x for x in globals() if globals()[x] is data2][0]\n",
    "    name3 =[x for x in globals() if globals()[x] is data3][0]\n",
    "    name4 =[x for x in globals() if globals()[x] is data4][0]\n",
    "    \n",
    "    \n",
    "    print(\"NaN Results: %s\" % name1)\n",
    "    print('')\n",
    "    print('There are', len(data1), 'total posts')\n",
    "    print('Title:', data1['Title'].isna().sum())\n",
    "    print('Snippet:', data1['Snippet'].isna().sum())\n",
    "    print('Contents:', data1['Contents'].isna().sum())\n",
    "    print('Summary:', data1['Summary'].isna().sum())\n",
    "    #print('Cleaned_Text:', data1['Cleaned_Text'].isna().sum())\n",
    "    print('_____________________________________________')\n",
    "    print('')\n",
    "    \n",
    "    \n",
    "    \n",
    "    print(\"NaN Results: %s\" % name2)\n",
    "    print('')\n",
    "    print('There are', len(data2), 'total posts')\n",
    "    print('Title:', data2['Title'].isna().sum())\n",
    "    print('Snippet:', data2['Snippet'].isna().sum())\n",
    "    print('Contents:', data2['Contents'].isna().sum())\n",
    "    print('Summary:', data2['Summary'].isna().sum())\n",
    "    print('_____________________________________________')\n",
    "    print('')\n",
    "    \n",
    "    \n",
    "    print(\"NaN Results: %s\" % name3)\n",
    "    print('')\n",
    "    print('There are', len(data3), 'total posts')\n",
    "    print('Title:', data3['Title'].isna().sum())\n",
    "    print('Snippet:', data3['Snippet'].isna().sum())\n",
    "    print('Contents:', data3['Contents'].isna().sum())\n",
    "    print('Summary:', data3['Summary'].isna().sum())\n",
    "    print('_____________________________________________')\n",
    "    print('')\n",
    "    \n",
    "    \n",
    "    print(\"NaN Results: %s\" % name4)\n",
    "    print('')\n",
    "    print('There are', len(data4), 'total posts')\n",
    "    print('Title:', data4['Title'].isna().sum())\n",
    "    print('Snippet:', data4['Snippet'].isna().sum())\n",
    "    print('Contents:', data4['Contents'].isna().sum())\n",
    "    print('Summary:', data4['Summary'].isna().sum())\n",
    "    print('_____________________________________________')"
   ]
  },
  {
   "cell_type": "code",
   "execution_count": 28,
   "metadata": {},
   "outputs": [
    {
     "name": "stdout",
     "output_type": "stream",
     "text": [
      "NaN Results: twitterdf\n",
      "\n",
      "There are 9657 total posts\n",
      "Title: 9657\n",
      "Snippet: 0\n",
      "Contents: 0\n",
      "Summary: 1284\n",
      "_____________________________________________\n",
      "\n",
      "NaN Results: newsdf\n",
      "\n",
      "There are 9584 total posts\n",
      "Title: 1\n",
      "Snippet: 0\n",
      "Contents: 0\n",
      "Summary: 9\n",
      "_____________________________________________\n",
      "\n",
      "NaN Results: forumsdf\n",
      "\n",
      "There are 17600 total posts\n",
      "Title: 0\n",
      "Snippet: 1\n",
      "Contents: 1\n",
      "Summary: 412\n",
      "_____________________________________________\n",
      "\n",
      "NaN Results: tumblrdf\n",
      "\n",
      "There are 613 total posts\n",
      "Title: 41\n",
      "Snippet: 187\n",
      "Contents: 187\n",
      "Summary: 0\n",
      "_____________________________________________\n"
     ]
    }
   ],
   "source": [
    "NaN_count(twitterdf, newsdf, forumsdf, tumblrdf)"
   ]
  },
  {
   "cell_type": "code",
   "execution_count": 29,
   "metadata": {},
   "outputs": [],
   "source": [
    "def NaN_count_with_arg(*argv):\n",
    "    \n",
    "    #for arg in argv:\n",
    "    #print('NaN Results:', argv)\n",
    "    #print('')\n",
    "    print('There are', len(argv), 'total posts')\n",
    "    #print('Title:', argv['Title'].isna().sum())\n",
    "    #print('Snippet:', argv['Snippet'].isna().sum())\n",
    "    #print('Contents:', argv['Contents'].isna().sum())\n",
    "    #print('Summary:', argv['Summary'].isna().sum())\n",
    "    #print('_____________________________________________')  \n",
    "        \n",
    "              \n",
    "              \n",
    "           \n",
    "  \n",
    "#def myFun(arg1, *argv): \n",
    "    #print (\"First argument :\", arg1) \n",
    "    #for arg in argv: \n",
    "        #print(\"Next argument through *argv :\", arg) \n",
    "  \n",
    "#myFun('Hello', 'Welcome', 'to', 'GeeksforGeeks') \n",
    "\n",
    "\n",
    "  "
   ]
  },
  {
   "cell_type": "code",
   "execution_count": 30,
   "metadata": {},
   "outputs": [
    {
     "name": "stdout",
     "output_type": "stream",
     "text": [
      "There are 1 total posts\n"
     ]
    }
   ],
   "source": [
    "NaN_count_with_arg(twitterdf)"
   ]
  },
  {
   "cell_type": "code",
   "execution_count": null,
   "metadata": {},
   "outputs": [],
   "source": [
    "NaN_count(forumsdf, newsdf, tumblrdf, twitterdf)"
   ]
  },
  {
   "cell_type": "code",
   "execution_count": null,
   "metadata": {},
   "outputs": [],
   "source": [
    "tumblrdf[tumblrdf['Contents'].isna()]"
   ]
  },
  {
   "cell_type": "code",
   "execution_count": null,
   "metadata": {},
   "outputs": [],
   "source": [
    "#Creates new df column for clean text and fills the na's.\n",
    "\n",
    "def na_removed_new_column(df):\n",
    "    \n",
    "    df['Cleaned_Text'] = df['Contents'].fillna('', inplace=True)\n"
   ]
  },
  {
   "cell_type": "code",
   "execution_count": null,
   "metadata": {},
   "outputs": [],
   "source": [
    "# Work on replacing NaNs in Contents and run word clouds.\n",
    "\n",
    "forumsdf.apply(find_NaN)"
   ]
  },
  {
   "cell_type": "code",
   "execution_count": null,
   "metadata": {},
   "outputs": [],
   "source": [
    "# Code to look for NaN values in Contents and find colum with text and then creates a Cleaned_Text column.\n",
    "#df.apply(np.sqrt)\n",
    "# Call function with cleantext, tokens = twitterdf.Contents.apply(cleanup)\n",
    "\n",
    "def find_NaN (row):\n",
    "    \n",
    "    for content in row['Contents']:\n",
    "        if content is not np.NaN:\n",
    "            row['Cleaned_Text'] = row['Contents']  #If Contents are not NaN, contents are placed in Cleaned_Text.  If Contents are NaN it looks to Summary.\n",
    "        \n",
    "        elif content in row['Summary'] is not np.NaN:\n",
    "            row['Cleaned_Text'] = row['Summary']  #If Content is NaN, and summary is not, Summary will be placed in Cleaned_Text. \n",
    "        \n",
    "        elif content in row['Title'] is not np.NaN:\n",
    "            row['Cleaned_Text'] = row['Title']  #If Summary is NaN, the contents of Title are placed in Cleaned_Text.\n",
    "        \n",
    "        else:\n",
    "            row['Cleaned_Text'] = row['Contents']  #If Contents is not NaN, contents will be placed in Cleaned_Text."
   ]
  },
  {
   "cell_type": "code",
   "execution_count": null,
   "metadata": {},
   "outputs": [],
   "source": [
    "#find_NaN(tumblrdf)"
   ]
  },
  {
   "cell_type": "code",
   "execution_count": null,
   "metadata": {},
   "outputs": [],
   "source": [
    "tumblrdf.head()"
   ]
  },
  {
   "cell_type": "code",
   "execution_count": null,
   "metadata": {},
   "outputs": [],
   "source": [
    "#if tumblrdf['Contents'].isna() is True:\n",
    " #   tumblrdf.Title.append('Cleaned_Text')\n",
    "    \n",
    "for content in tumblrdf['Contents']:\n",
    "    if content is np.NaN:\n",
    "        tumblrdf['Cleaned_Text'] = tumblrdf['Title']"
   ]
  },
  {
   "cell_type": "code",
   "execution_count": null,
   "metadata": {},
   "outputs": [],
   "source": [
    "tumblrdf.head()"
   ]
  },
  {
   "cell_type": "code",
   "execution_count": null,
   "metadata": {},
   "outputs": [],
   "source": [
    "#newsdf[newsdf['Title'].isna()]\n",
    "newsdf.apply(find_NaN)\n",
    "#if newsdf['Title'].isna() is False:\n",
    "    #print(newsdf[newsdf['Title'].isna])"
   ]
  },
  {
   "cell_type": "code",
   "execution_count": null,
   "metadata": {},
   "outputs": [],
   "source": [
    "testdf = pd.DataFrame([[1, 2, np.NaN, 4], [1, 2, 3, 4], [1, 2, 3, 4], [1, 2, 3, 4]], columns = ['Title', 'Snippet', 'Contents','Summary'])"
   ]
  },
  {
   "cell_type": "code",
   "execution_count": null,
   "metadata": {},
   "outputs": [],
   "source": [
    "#find_NaN(testdf)\n",
    "for item in testdf['Contents']:\n",
    "    if item.isnull() == False:\n",
    "        print('There are no empty values in Contents')\n"
   ]
  },
  {
   "cell_type": "code",
   "execution_count": null,
   "metadata": {},
   "outputs": [],
   "source": [
    "if testdf['Contents'].isnull():\n",
    "    print('It is null')"
   ]
  },
  {
   "cell_type": "code",
   "execution_count": null,
   "metadata": {},
   "outputs": [],
   "source": [
    "for item in twitterdf['Contents']:\n",
    "    if item.isna() == True:\n",
    "        print('There are null values')\n",
    "    else:\n",
    "        print('There are no null values')"
   ]
  },
  {
   "cell_type": "code",
   "execution_count": null,
   "metadata": {},
   "outputs": [],
   "source": [
    "#for item in twitterdf['Contents']:\n",
    "if twitterdf['Contents'].isna() is False:\n",
    "    print('There are no null values')\n",
    "else:\n",
    "    print('There are null values')"
   ]
  },
  {
   "cell_type": "code",
   "execution_count": null,
   "metadata": {},
   "outputs": [],
   "source": [
    "testdf.head()"
   ]
  },
  {
   "cell_type": "code",
   "execution_count": null,
   "metadata": {},
   "outputs": [],
   "source": [
    "newsdf.head()"
   ]
  },
  {
   "cell_type": "markdown",
   "metadata": {},
   "source": [
    "# Word Cloud"
   ]
  },
  {
   "cell_type": "code",
   "execution_count": 9,
   "metadata": {},
   "outputs": [],
   "source": [
    "# Did not work for forumsdf or tumblrdf:  TypeError: sequence item 1581: expected str instance, float found\n",
    "\n",
    "def wordcloud(df):\n",
    "\n",
    "    cloud = ''.join(post for post in df.Cleaned_Text)\n",
    "    wordcloud = WordCloud(width=400, height=200, scale=1, background_color='white').generate(cloud)\n",
    "    \n",
    "    plt.imshow(wordcloud, interpolation='bilinear')\n",
    "    plt.figure(figsize=(8, 15))\n",
    "    plt.show()\n",
    "    \n",
    "    print('There are {} words in the combination of all posts.'.format(len(cloud)))"
   ]
  },
  {
   "cell_type": "code",
   "execution_count": 10,
   "metadata": {},
   "outputs": [
    {
     "data": {
      "image/png": "[encoded data removed]",
      "text/plain": [
       "<Figure size 432x288 with 1 Axes>"
      ]
     },
     "metadata": {
      "needs_background": "light"
     },
     "output_type": "display_data"
    },
    {
     "data": {
      "text/plain": [
       "<Figure size 576x1080 with 0 Axes>"
      ]
     },
     "metadata": {},
     "output_type": "display_data"
    },
    {
     "name": "stdout",
     "output_type": "stream",
     "text": [
      "There are 11435986 words in the combination of all posts.\n"
     ]
    }
   ],
   "source": [
    "newsdf = pd.read_csv('../data/clean_dfs/news.csv')\n",
    "wordcloud(newsdf)"
   ]
  },
  {
   "cell_type": "code",
   "execution_count": null,
   "metadata": {},
   "outputs": [],
   "source": [
    "pn.extension()\n",
    "\n",
    "pn.interact(wordcloud)"
   ]
  },
  {
   "cell_type": "code",
   "execution_count": null,
   "metadata": {},
   "outputs": [],
   "source": [
    "wordcloud(twitterdf)"
   ]
  },
  {
   "cell_type": "code",
   "execution_count": null,
   "metadata": {},
   "outputs": [],
   "source": [
    "tumblrdf['Contents'].fillna('', inplace=True)\n",
    "forumsdf['Contents'].fillna('', inplace=True)\n",
    "newsdf['Contents'].fillna('', inplace=True)\n",
    "twitterdf['Contents'].fillna('', inplace=True)"
   ]
  },
  {
   "cell_type": "code",
   "execution_count": null,
   "metadata": {},
   "outputs": [],
   "source": [
    "wordcloud(tumblrdf)"
   ]
  },
  {
   "cell_type": "code",
   "execution_count": null,
   "metadata": {},
   "outputs": [],
   "source": [
    "wordcloud(forumsdf)"
   ]
  },
  {
   "cell_type": "code",
   "execution_count": null,
   "metadata": {},
   "outputs": [],
   "source": []
  }
 ],
 "metadata": {
  "kernelspec": {
   "display_name": "Python 3",
   "language": "python",
   "name": "python3"
  },
  "language_info": {
   "codemirror_mode": {
    "name": "ipython",
    "version": 3
   },
   "file_extension": ".py",
   "mimetype": "text/x-python",
   "name": "python",
   "nbconvert_exporter": "python",
   "pygments_lexer": "ipython3",
   "version": "3.7.3"
  }
 },
 "nbformat": 4,
 "nbformat_minor": 2
}
